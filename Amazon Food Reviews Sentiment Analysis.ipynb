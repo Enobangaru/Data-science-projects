{
  "nbformat": 4,
  "nbformat_minor": 0,
  "metadata": {
    "colab": {
      "provenance": [],
      "authorship_tag": "ABX9TyMfBvfpyuzvZ7XyfNSlGVxB",
      "include_colab_link": true
    },
    "kernelspec": {
      "name": "python3",
      "display_name": "Python 3"
    },
    "language_info": {
      "name": "python"
    }
  },
  "cells": [
    {
      "cell_type": "markdown",
      "metadata": {
        "id": "view-in-github",
        "colab_type": "text"
      },
      "source": [
        "<a href=\"https://colab.research.google.com/github/Enobangaru/Data-science-projects/blob/main/Amazon%20Food%20Reviews%20Sentiment%20Analysis.ipynb\" target=\"_parent\"><img src=\"https://colab.research.google.com/assets/colab-badge.svg\" alt=\"Open In Colab\"/></a>"
      ]
    },
    {
      "cell_type": "markdown",
      "source": [
        "Step 1: Download the Dataset"
      ],
      "metadata": {
        "id": "BCDMmofAVehk"
      }
    },
    {
      "cell_type": "code",
      "execution_count": null,
      "metadata": {
        "id": "paY-5TAxSHuK"
      },
      "outputs": [],
      "source": [
        "!kaggle datasets download -d snap/amazon-fine-food-reviews\n",
        "!unzip amazon-fine-food-reviews.zip\n"
      ]
    },
    {
      "cell_type": "markdown",
      "source": [
        "Step 2: Load the Data"
      ],
      "metadata": {
        "id": "DSEC-RjpVhMo"
      }
    },
    {
      "cell_type": "code",
      "source": [
        "import pandas as pd\n",
        "\n",
        "# Load dataset\n",
        "df = pd.read_csv(\"Reviews.csv\")\n",
        "\n",
        "# Display first few rows\n",
        "df.head()\n"
      ],
      "metadata": {
        "id": "LtmGiRdZSX0M"
      },
      "execution_count": null,
      "outputs": []
    },
    {
      "cell_type": "markdown",
      "source": [
        "Step 3: Data Preprocessing -> Drop Unnecessary Columns"
      ],
      "metadata": {
        "id": "cERfHLcLVoQK"
      }
    },
    {
      "cell_type": "code",
      "source": [
        "df = df[['Score', 'Text']]\n",
        "df = df.dropna()  # Remove missing values\n"
      ],
      "metadata": {
        "id": "-OLczSkjSqx5"
      },
      "execution_count": null,
      "outputs": []
    },
    {
      "cell_type": "markdown",
      "source": [
        "Convert Ratings to Sentiment Labels\n",
        "We'll classify reviews into Positive, Neutral, and Negative:\n",
        "\n",
        "1-2 stars → Negative (-1)\n",
        "3 stars → Neutral (0)\n",
        "4-5 stars → Positive (1)"
      ],
      "metadata": {
        "id": "Sw2p7ku_V0wm"
      }
    },
    {
      "cell_type": "code",
      "source": [
        "def sentiment_label(score):\n",
        "    if score <= 2:\n",
        "        return -1  # Negative\n",
        "    elif score == 3:\n",
        "        return 0   # Neutral\n",
        "    else:\n",
        "        return 1   # Positive\n",
        "\n",
        "df['Sentiment'] = df['Score'].apply(sentiment_label)\n",
        "df = df[['Text', 'Sentiment']]  # Keep only needed columns\n"
      ],
      "metadata": {
        "id": "GF1T1h2sSsvx"
      },
      "execution_count": null,
      "outputs": []
    },
    {
      "cell_type": "markdown",
      "source": [
        "Step 4: Text Preprocessing ---\n",
        "We clean the text before applying ML models."
      ],
      "metadata": {
        "id": "z6Jj7EAoWH5p"
      }
    },
    {
      "cell_type": "code",
      "source": [
        "import re\n",
        "\n",
        "# Assuming 'df' is your DataFrame and 'Text' is the column you want to clean\n",
        "df['Text'] = df['Text'].str.replace(r'\\d+', '', regex=True)  # Remove numbers from the 'Text' column\n",
        "\n"
      ],
      "metadata": {
        "id": "18veAtjXS3jh"
      },
      "execution_count": null,
      "outputs": []
    },
    {
      "cell_type": "code",
      "source": [
        "import re\n",
        "import nltk\n",
        "from nltk.corpus import stopwords\n",
        "from nltk.tokenize import word_tokenize\n",
        "from nltk.stem import WordNetLemmatizer\n",
        "\n",
        "# Download necessary NLP resources\n",
        "nltk.download('stopwords')\n",
        "nltk.download('punkt')\n",
        "nltk.download('wordnet')\n",
        "nltk.download('punkt_tab') # Download the punkt_tab data\n",
        "\n",
        "# Initialize NLP tools\n",
        "stop_words = set(stopwords.words('english'))\n",
        "lemmatizer = WordNetLemmatizer()\n",
        "\n",
        "def clean_text(text):\n",
        "    if not isinstance(text, str):  # Check if text is a valid string\n",
        "        return \"\"\n",
        "\n",
        "    text = text.lower()  # Convert to lowercase\n",
        "    text = re.sub(r'\\W', ' ', text)  # Remove special characters\n",
        "    text = re.sub(r'\\d+', '', text)  # Remove numbers (optional)\n",
        "    text = re.sub(r'\\s+', ' ', text).strip()  # Remove extra spaces\n",
        "\n",
        "    tokens = word_tokenize(text)  # Tokenization\n",
        "    tokens = [lemmatizer.lemmatize(word) for word in tokens if word not in stop_words]  # Remove stopwords & lemmatize\n",
        "\n",
        "    return ' '.join(tokens) if tokens else \"empty\"  # Avoid empty strings\n",
        "\n",
        "# Apply cleaning\n",
        "df['Cleaned_Text'] = df['Text'].apply(clean_text)\n",
        "\n",
        "\n"
      ],
      "metadata": {
        "id": "XrW9nPONUG1Z"
      },
      "execution_count": null,
      "outputs": []
    },
    {
      "cell_type": "markdown",
      "source": [
        "Step 5: Sentiment Analysis"
      ],
      "metadata": {
        "id": "0_HCINw0WWA8"
      }
    },
    {
      "cell_type": "markdown",
      "source": [
        "We can use Logistic Regression for sentiment classification.\n",
        "\n",
        "1. Convert Text into Features (TF-IDF Vectorization)"
      ],
      "metadata": {
        "id": "UbFT4R32WZNQ"
      }
    },
    {
      "cell_type": "code",
      "source": [
        "from sklearn.feature_extraction.text import TfidfVectorizer\n",
        "\n",
        "vectorizer = TfidfVectorizer(max_features=5000)  # Convert text to numerical form\n",
        "X = vectorizer.fit_transform(df['Cleaned_Text'])\n",
        "y = df['Sentiment']\n"
      ],
      "metadata": {
        "id": "gG5O5jGWWlUJ"
      },
      "execution_count": null,
      "outputs": []
    },
    {
      "cell_type": "markdown",
      "source": [
        "2. Train a Logistic Regression Model"
      ],
      "metadata": {
        "id": "G5YIsEipWp9V"
      }
    },
    {
      "cell_type": "code",
      "source": [
        "from sklearn.model_selection import train_test_split\n",
        "from sklearn.linear_model import LogisticRegression\n",
        "from sklearn.metrics import accuracy_score\n",
        "\n",
        "# Split data\n",
        "X_train, X_test, y_train, y_test = train_test_split(X, y, test_size=0.2, random_state=42)\n",
        "\n",
        "# Train model\n",
        "model = LogisticRegression()\n",
        "model.fit(X_train, y_train)\n",
        "\n",
        "# Evaluate model\n",
        "y_pred = model.predict(X_test)\n",
        "print(\"Accuracy:\", accuracy_score(y_test, y_pred))\n"
      ],
      "metadata": {
        "id": "6PCmct6HWrJ3"
      },
      "execution_count": null,
      "outputs": []
    },
    {
      "cell_type": "markdown",
      "source": [
        "Step 6: Topic Modeling using LDA (Latent Dirichlet Allocation)"
      ],
      "metadata": {
        "id": "eddMix5TW2qI"
      }
    },
    {
      "cell_type": "markdown",
      "source": [
        "To find topics in the reviews, we use LDA."
      ],
      "metadata": {
        "id": "34LA3_-yW32m"
      }
    },
    {
      "cell_type": "code",
      "source": [
        "from sklearn.decomposition import LatentDirichletAllocation\n",
        "\n",
        "# Apply LDA\n",
        "lda = LatentDirichletAllocation(n_components=5, random_state=42)  # 5 topics\n",
        "lda.fit(X)\n",
        "\n",
        "# Get top words per topic\n",
        "words = vectorizer.get_feature_names_out()\n",
        "for topic_idx, topic in enumerate(lda.components_):\n",
        "    print(f\"Topic {topic_idx+1}: \", [words[i] for i in topic.argsort()[-10:]])\n"
      ],
      "metadata": {
        "id": "Edz-IzadXEKv"
      },
      "execution_count": null,
      "outputs": []
    },
    {
      "cell_type": "markdown",
      "source": [
        "Step 7: (Optional) Deploy with Streamlit"
      ],
      "metadata": {
        "id": "WeTBSo0DXPlK"
      }
    },
    {
      "cell_type": "code",
      "source": [
        "import streamlit as st\n",
        "\n",
        "def predict_sentiment(text):\n",
        "    clean_text = clean_text(text)\n",
        "    vectorized_text = vectorizer.transform([clean_text])\n",
        "    sentiment = model.predict(vectorized_text)[0]\n",
        "    return \"Positive\" if sentiment == 1 else \"Negative\" if sentiment == -1 else \"Neutral\"\n",
        "\n",
        "st.title(\"Amazon Review Sentiment Analyzer\")\n",
        "user_input = st.text_area(\"Enter a review:\")\n",
        "if st.button(\"Analyze\"):\n",
        "    result = predict_sentiment(user_input)\n",
        "    st.write(\"Predicted Sentiment:\", result)\n"
      ],
      "metadata": {
        "id": "wfAmWY2iXRJm"
      },
      "execution_count": null,
      "outputs": []
    },
    {
      "cell_type": "code",
      "source": [
        "streamlit run app.py\n"
      ],
      "metadata": {
        "id": "9LghMm-KXokW"
      },
      "execution_count": null,
      "outputs": []
    }
  ]
}